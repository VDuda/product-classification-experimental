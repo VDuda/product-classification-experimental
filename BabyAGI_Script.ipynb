{
  "cells": [
    {
      "cell_type": "code",
      "source": [
        "!git clone https://github.com/yoheinakajima/babyagi.git"
      ],
      "metadata": {
        "colab": {
          "base_uri": "https://localhost:8080/"
        },
        "id": "RyHz7Pf12FI2",
        "outputId": "47e30abe-234d-4c25-cce0-acaa9bce7c14"
      },
      "execution_count": 1,
      "outputs": [
        {
          "output_type": "stream",
          "name": "stdout",
          "text": [
            "Cloning into 'babyagi'...\n",
            "remote: Enumerating objects: 1357, done.\u001b[K\n",
            "remote: Counting objects: 100% (371/371), done.\u001b[K\n",
            "remote: Compressing objects: 100% (220/220), done.\u001b[K\n",
            "remote: Total 1357 (delta 210), reused 272 (delta 148), pack-reused 986\u001b[K\n",
            "Receiving objects: 100% (1357/1357), 1.58 MiB | 23.10 MiB/s, done.\n",
            "Resolving deltas: 100% (735/735), done.\n"
          ]
        }
      ]
    },
    {
      "cell_type": "code",
      "execution_count": null,
      "metadata": {
        "colab": {
          "base_uri": "https://localhost:8080/"
        },
        "id": "oxSFAzfvz9Up",
        "outputId": "069a9008-80bc-4dd7-bfce-98fb45c9bd6a"
      },
      "outputs": [
        {
          "name": "stdout",
          "output_type": "stream",
          "text": [
            "/content/babyagi\n"
          ]
        }
      ],
      "source": [
        "%cd babyagi"
      ]
    },
    {
      "cell_type": "code",
      "execution_count": null,
      "metadata": {
        "colab": {
          "base_uri": "https://localhost:8080/",
          "height": 1000
        },
        "id": "UgYKdmzh0pKo",
        "outputId": "d010762e-2de4-403e-cb20-d92e6ebb291f"
      },
      "outputs": [
        {
          "name": "stdout",
          "output_type": "stream",
          "text": [
            "Collecting argparse==1.4.0 (from -r requirements.txt (line 1))\n",
            "  Downloading argparse-1.4.0-py2.py3-none-any.whl (23 kB)\n",
            "Collecting openai==0.27.4 (from -r requirements.txt (line 2))\n",
            "  Downloading openai-0.27.4-py3-none-any.whl (70 kB)\n",
            "\u001b[2K     \u001b[90m━━━━━━━━━━━━━━━━━━━━━━━━━━━━━━━━━━━━━━━━\u001b[0m \u001b[32m70.3/70.3 kB\u001b[0m \u001b[31m2.4 MB/s\u001b[0m eta \u001b[36m0:00:00\u001b[0m\n",
            "\u001b[?25hCollecting pinecone-client==2.2.1 (from -r requirements.txt (line 3))\n",
            "  Downloading pinecone_client-2.2.1-py3-none-any.whl (177 kB)\n",
            "\u001b[2K     \u001b[90m━━━━━━━━━━━━━━━━━━━━━━━━━━━━━━━━━━━━━━━\u001b[0m \u001b[32m177.2/177.2 kB\u001b[0m \u001b[31m8.2 MB/s\u001b[0m eta \u001b[36m0:00:00\u001b[0m\n",
            "\u001b[?25hCollecting pre-commit>=3.2.0 (from -r requirements.txt (line 4))\n",
            "  Downloading pre_commit-3.3.3-py2.py3-none-any.whl (202 kB)\n",
            "\u001b[2K     \u001b[90m━━━━━━━━━━━━━━━━━━━━━━━━━━━━━━━━━━━━━━\u001b[0m \u001b[32m202.8/202.8 kB\u001b[0m \u001b[31m21.0 MB/s\u001b[0m eta \u001b[36m0:00:00\u001b[0m\n",
            "\u001b[?25hCollecting python-dotenv==1.0.0 (from -r requirements.txt (line 5))\n",
            "  Downloading python_dotenv-1.0.0-py3-none-any.whl (19 kB)\n",
            "Requirement already satisfied: requests>=2.20 in /usr/local/lib/python3.10/dist-packages (from openai==0.27.4->-r requirements.txt (line 2)) (2.31.0)\n",
            "Requirement already satisfied: tqdm in /usr/local/lib/python3.10/dist-packages (from openai==0.27.4->-r requirements.txt (line 2)) (4.66.1)\n",
            "Requirement already satisfied: aiohttp in /usr/local/lib/python3.10/dist-packages (from openai==0.27.4->-r requirements.txt (line 2)) (3.8.5)\n",
            "Requirement already satisfied: pyyaml>=5.4 in /usr/local/lib/python3.10/dist-packages (from pinecone-client==2.2.1->-r requirements.txt (line 3)) (6.0.1)\n",
            "Collecting loguru>=0.5.0 (from pinecone-client==2.2.1->-r requirements.txt (line 3))\n",
            "  Downloading loguru-0.7.0-py3-none-any.whl (59 kB)\n",
            "\u001b[2K     \u001b[90m━━━━━━━━━━━━━━━━━━━━━━━━━━━━━━━━━━━━━━━━\u001b[0m \u001b[32m60.0/60.0 kB\u001b[0m \u001b[31m6.5 MB/s\u001b[0m eta \u001b[36m0:00:00\u001b[0m\n",
            "\u001b[?25hRequirement already satisfied: typing-extensions>=3.7.4 in /usr/local/lib/python3.10/dist-packages (from pinecone-client==2.2.1->-r requirements.txt (line 3)) (4.7.1)\n",
            "Collecting dnspython>=2.0.0 (from pinecone-client==2.2.1->-r requirements.txt (line 3))\n",
            "  Downloading dnspython-2.4.2-py3-none-any.whl (300 kB)\n",
            "\u001b[2K     \u001b[90m━━━━━━━━━━━━━━━━━━━━━━━━━━━━━━━━━━━━━━\u001b[0m \u001b[32m300.4/300.4 kB\u001b[0m \u001b[31m20.9 MB/s\u001b[0m eta \u001b[36m0:00:00\u001b[0m\n",
            "\u001b[?25hRequirement already satisfied: python-dateutil>=2.5.3 in /usr/local/lib/python3.10/dist-packages (from pinecone-client==2.2.1->-r requirements.txt (line 3)) (2.8.2)\n",
            "Requirement already satisfied: urllib3>=1.21.1 in /usr/local/lib/python3.10/dist-packages (from pinecone-client==2.2.1->-r requirements.txt (line 3)) (2.0.4)\n",
            "Requirement already satisfied: numpy in /usr/local/lib/python3.10/dist-packages (from pinecone-client==2.2.1->-r requirements.txt (line 3)) (1.23.5)\n",
            "Collecting cfgv>=2.0.0 (from pre-commit>=3.2.0->-r requirements.txt (line 4))\n",
            "  Downloading cfgv-3.4.0-py2.py3-none-any.whl (7.2 kB)\n",
            "Collecting identify>=1.0.0 (from pre-commit>=3.2.0->-r requirements.txt (line 4))\n",
            "  Downloading identify-2.5.26-py2.py3-none-any.whl (98 kB)\n",
            "\u001b[2K     \u001b[90m━━━━━━━━━━━━━━━━━━━━━━━━━━━━━━━━━━━━━━━━\u001b[0m \u001b[32m98.8/98.8 kB\u001b[0m \u001b[31m11.0 MB/s\u001b[0m eta \u001b[36m0:00:00\u001b[0m\n",
            "\u001b[?25hCollecting nodeenv>=0.11.1 (from pre-commit>=3.2.0->-r requirements.txt (line 4))\n",
            "  Downloading nodeenv-1.8.0-py2.py3-none-any.whl (22 kB)\n",
            "Collecting virtualenv>=20.10.0 (from pre-commit>=3.2.0->-r requirements.txt (line 4))\n",
            "  Downloading virtualenv-20.24.3-py3-none-any.whl (3.0 MB)\n",
            "\u001b[2K     \u001b[90m━━━━━━━━━━━━━━━━━━━━━━━━━━━━━━━━━━━━━━━━\u001b[0m \u001b[32m3.0/3.0 MB\u001b[0m \u001b[31m61.3 MB/s\u001b[0m eta \u001b[36m0:00:00\u001b[0m\n",
            "\u001b[?25hRequirement already satisfied: setuptools in /usr/local/lib/python3.10/dist-packages (from nodeenv>=0.11.1->pre-commit>=3.2.0->-r requirements.txt (line 4)) (67.7.2)\n",
            "Requirement already satisfied: six>=1.5 in /usr/local/lib/python3.10/dist-packages (from python-dateutil>=2.5.3->pinecone-client==2.2.1->-r requirements.txt (line 3)) (1.16.0)\n",
            "Requirement already satisfied: charset-normalizer<4,>=2 in /usr/local/lib/python3.10/dist-packages (from requests>=2.20->openai==0.27.4->-r requirements.txt (line 2)) (3.2.0)\n",
            "Requirement already satisfied: idna<4,>=2.5 in /usr/local/lib/python3.10/dist-packages (from requests>=2.20->openai==0.27.4->-r requirements.txt (line 2)) (3.4)\n",
            "Requirement already satisfied: certifi>=2017.4.17 in /usr/local/lib/python3.10/dist-packages (from requests>=2.20->openai==0.27.4->-r requirements.txt (line 2)) (2023.7.22)\n",
            "Collecting distlib<1,>=0.3.7 (from virtualenv>=20.10.0->pre-commit>=3.2.0->-r requirements.txt (line 4))\n",
            "  Downloading distlib-0.3.7-py2.py3-none-any.whl (468 kB)\n",
            "\u001b[2K     \u001b[90m━━━━━━━━━━━━━━━━━━━━━━━━━━━━━━━━━━━━━━\u001b[0m \u001b[32m468.9/468.9 kB\u001b[0m \u001b[31m40.7 MB/s\u001b[0m eta \u001b[36m0:00:00\u001b[0m\n",
            "\u001b[?25hRequirement already satisfied: filelock<4,>=3.12.2 in /usr/local/lib/python3.10/dist-packages (from virtualenv>=20.10.0->pre-commit>=3.2.0->-r requirements.txt (line 4)) (3.12.2)\n",
            "Requirement already satisfied: platformdirs<4,>=3.9.1 in /usr/local/lib/python3.10/dist-packages (from virtualenv>=20.10.0->pre-commit>=3.2.0->-r requirements.txt (line 4)) (3.10.0)\n",
            "Requirement already satisfied: attrs>=17.3.0 in /usr/local/lib/python3.10/dist-packages (from aiohttp->openai==0.27.4->-r requirements.txt (line 2)) (23.1.0)\n",
            "Requirement already satisfied: multidict<7.0,>=4.5 in /usr/local/lib/python3.10/dist-packages (from aiohttp->openai==0.27.4->-r requirements.txt (line 2)) (6.0.4)\n",
            "Requirement already satisfied: async-timeout<5.0,>=4.0.0a3 in /usr/local/lib/python3.10/dist-packages (from aiohttp->openai==0.27.4->-r requirements.txt (line 2)) (4.0.3)\n",
            "Requirement already satisfied: yarl<2.0,>=1.0 in /usr/local/lib/python3.10/dist-packages (from aiohttp->openai==0.27.4->-r requirements.txt (line 2)) (1.9.2)\n",
            "Requirement already satisfied: frozenlist>=1.1.1 in /usr/local/lib/python3.10/dist-packages (from aiohttp->openai==0.27.4->-r requirements.txt (line 2)) (1.4.0)\n",
            "Requirement already satisfied: aiosignal>=1.1.2 in /usr/local/lib/python3.10/dist-packages (from aiohttp->openai==0.27.4->-r requirements.txt (line 2)) (1.3.1)\n",
            "Installing collected packages: distlib, argparse, virtualenv, python-dotenv, nodeenv, loguru, identify, dnspython, cfgv, pre-commit, pinecone-client, openai\n",
            "Successfully installed argparse-1.4.0 cfgv-3.4.0 distlib-0.3.7 dnspython-2.4.2 identify-2.5.26 loguru-0.7.0 nodeenv-1.8.0 openai-0.27.4 pinecone-client-2.2.1 pre-commit-3.3.3 python-dotenv-1.0.0 virtualenv-20.24.3\n"
          ]
        },
        {
          "data": {
            "application/vnd.colab-display-data+json": {
              "pip_warning": {
                "packages": [
                  "argparse"
                ]
              }
            }
          },
          "metadata": {},
          "output_type": "display_data"
        }
      ],
      "source": [
        "!pip install -r requirements.txt\n"
      ]
    },
    {
      "cell_type": "code",
      "execution_count": null,
      "metadata": {
        "id": "CKfgyN9e071C"
      },
      "outputs": [],
      "source": [
        "!cp .env.example env.txt"
      ]
    },
    {
      "cell_type": "code",
      "execution_count": null,
      "metadata": {
        "id": "dj1nQkpj2rOj"
      },
      "outputs": [],
      "source": [
        "!cp env.txt .env\n"
      ]
    },
    {
      "cell_type": "code",
      "execution_count": null,
      "metadata": {
        "colab": {
          "background_save": true,
          "base_uri": "https://localhost:8080/"
        },
        "id": "Z2K8eYke259t",
        "outputId": "878b055f-40f5-41f7-ae26-32f1fff9a41a"
      },
      "outputs": [
        {
          "name": "stdout",
          "output_type": "stream",
          "text": [
            "\u001b[95m\u001b[1m\n",
            "*****CONFIGURATION*****\n",
            "\u001b[0m\u001b[0m\n",
            "Name: BabyAGI\n",
            "LLM : gpt-3.5-turbo\n",
            "Mode: none\n",
            "\u001b[94m\u001b[1m\n",
            "*****OBJECTIVE*****\n",
            "\u001b[0m\u001b[0m\n",
            "Solve world hunger\n",
            "\u001b[93m\u001b[1m\n",
            "Initial task:\u001b[0m\u001b[0m Develop a task list\n",
            "Traceback (most recent call last):\n",
            "  File \"/content/babyagi/babyagi.py\", line 121, in <module>\n",
            "    if table_name not in pinecone.list_indexes():\n",
            "  File \"/usr/local/lib/python3.10/dist-packages/pinecone/manage.py\", line 185, in list_indexes\n",
            "    response = api_instance.list_indexes()\n",
            "  File \"/usr/local/lib/python3.10/dist-packages/pinecone/core/client/api_client.py\", line 776, in __call__\n",
            "    return self.callable(self, *args, **kwargs)\n",
            "  File \"/usr/local/lib/python3.10/dist-packages/pinecone/core/client/api/index_operations_api.py\", line 1132, in __list_indexes\n",
            "    return self.call_with_http_info(**kwargs)\n",
            "  File \"/usr/local/lib/python3.10/dist-packages/pinecone/core/client/api_client.py\", line 838, in call_with_http_info\n",
            "    return self.api_client.call_api(\n",
            "  File \"/usr/local/lib/python3.10/dist-packages/pinecone/core/client/api_client.py\", line 413, in call_api\n",
            "    return self.__call_api(resource_path, method,\n",
            "  File \"/usr/local/lib/python3.10/dist-packages/pinecone/core/client/api_client.py\", line 207, in __call_api\n",
            "    raise e\n",
            "  File \"/usr/local/lib/python3.10/dist-packages/pinecone/core/client/api_client.py\", line 200, in __call_api\n",
            "    response_data = self.request(\n",
            "  File \"/usr/local/lib/python3.10/dist-packages/pinecone/core/client/api_client.py\", line 439, in request\n",
            "    return self.rest_client.GET(url,\n",
            "  File \"/usr/local/lib/python3.10/dist-packages/pinecone/core/client/rest.py\", line 236, in GET\n",
            "    return self.request(\"GET\", url,\n",
            "  File \"/usr/local/lib/python3.10/dist-packages/pinecone/core/client/rest.py\", line 219, in request\n",
            "    raise UnauthorizedException(http_resp=r)\n",
            "pinecone.core.client.exceptions.UnauthorizedException: (401)\n",
            "Reason: Unauthorized\n",
            "HTTP response headers: HTTPHeaderDict({'www-authenticate': 'API key is missing or invalid for the environment \"us-east1-gcp\". Check that the correct environment is specified.', 'content-length': '114', 'date': 'Sun, 20 Aug 2023 12:18:27 GMT', 'server': 'envoy'})\n",
            "HTTP response body: API key is missing or invalid for the environment \"us-east1-gcp\". Check that the correct environment is specified.\n",
            "\n"
          ]
        }
      ],
      "source": [
        "!python babyagi.py\n"
      ]
    }
  ],
  "metadata": {
    "colab": {
      "provenance": []
    },
    "kernelspec": {
      "display_name": "Python 3",
      "name": "python3"
    },
    "language_info": {
      "name": "python"
    }
  },
  "nbformat": 4,
  "nbformat_minor": 0
}